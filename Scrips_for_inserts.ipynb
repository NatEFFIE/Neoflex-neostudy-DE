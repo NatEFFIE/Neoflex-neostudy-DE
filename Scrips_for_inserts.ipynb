{
  "nbformat": 4,
  "nbformat_minor": 0,
  "metadata": {
    "colab": {
      "provenance": []
    },
    "kernelspec": {
      "name": "python3",
      "display_name": "Python 3"
    },
    "language_info": {
      "name": "python"
    }
  },
  "cells": [
    {
      "cell_type": "code",
      "execution_count": 16,
      "metadata": {
        "id": "iw0rc98mu8OW"
      },
      "outputs": [],
      "source": [
        "import pandas as pd\n",
        "import numpy as np\n",
        "import requests\n",
        "from bs4 import BeautifulSoup as bs\n",
        "from random import randrange\n",
        "from datetime import timedelta, datetime, date"
      ]
    },
    {
      "cell_type": "code",
      "source": [
        "np.random.seed(42)"
      ],
      "metadata": {
        "id": "tvU7i73-_NZc"
      },
      "execution_count": 17,
      "outputs": []
    },
    {
      "cell_type": "code",
      "source": [
        "# create table 'games'\n",
        "# parse boardgames_names\n",
        "url = 'https://gaga.ru/rating/'\n",
        "headers = {'User-Agent': 'Mozilla/5.0',\n",
        "           'Accept': 'text/html,application/xhtml+xml',\n",
        "           'Connection': 'keep-alive'}\n",
        "\n",
        "response = requests.get(url, headers=headers)\n",
        "\n",
        "soup = bs(response.text, 'lxml')\n",
        "\n",
        "board_games = [tag.text.strip() for tag in soup.find_all('td')[6:-10]]\n",
        "\n",
        "game_names = []\n",
        "for bg in board_games[::5]:\n",
        "  game_names.append(bg.split('\\n\\n\\t\\t\\t\\t\\t\\t\\t\\t\\t')[0])\n",
        "# 999 games"
      ],
      "metadata": {
        "id": "yIwFHhcmvZzN"
      },
      "execution_count": 18,
      "outputs": []
    },
    {
      "cell_type": "code",
      "source": [
        "# add price and quantity columns\n",
        "price = np.random.choice((599, 999, 1299, 1699, 2299, 2999, 3999, 4999, 6999), 999)\n",
        "quantity = np.random.randint(0, 1000, 999)\n",
        "\n",
        "# create a dataframe\n",
        "games = pd.DataFrame({'game_name': game_names, 'price': price, 'quantity': quantity})\n",
        "\n",
        "# save the df to csv format\n",
        "games.to_csv('games.csv', sep=',', encoding='utf-8-sig', index=False)"
      ],
      "metadata": {
        "id": "LqBzYt1760dl"
      },
      "execution_count": 19,
      "outputs": []
    },
    {
      "cell_type": "code",
      "source": [
        "# create table 'city'\n",
        "\n",
        "city = pd.DataFrame({'city_name': ['Ростов-на-Дону', 'Краснодар', 'Воронеж', 'Волгоград']})\n",
        "\n",
        "city.to_csv('city.csv', sep=',', encoding='utf-8-sig', index=False)"
      ],
      "metadata": {
        "id": "FJCts8-yAIfh"
      },
      "execution_count": 20,
      "outputs": []
    },
    {
      "cell_type": "code",
      "source": [
        "# create table 'customers'\n",
        "# columns: first_name, last_name, city_id\n",
        "\n",
        "first_name = ['Евгения', 'Дмитрий', 'София', 'Марианна', 'Егор', 'Александр',\n",
        "       'Николай', 'Константин', 'Ярослав', 'Елена', 'Анастасия', 'Александр',\n",
        "       'Роман', 'Петр', 'Алексей', 'Виктория', 'Глеб', 'Варвара', 'Станислав',\n",
        "       'Людмила', 'Максим', 'Жанна', 'Павел', 'Вадим', 'Геннадий']\n",
        "\n",
        "last_name = ['Королева', 'Гусев', 'Киселева', 'Ильина', 'Максимов', 'Поляков', 'Сорокин',\n",
        "        'Виноградов', 'Ковалев', 'Белова', 'Медведева', 'Антонов', 'Тарасов', 'Жуков', 'Баранов',\n",
        "        'Филиппова', 'Комаров', 'Давыдова', 'Беляев', 'Герасимова', 'Богданов', 'Осипова','Сидоров',\n",
        "        'Матвеев', 'Иванов']\n",
        "\n",
        "city_id = np.random.randint(1, 5, 25)\n",
        "\n",
        "customers = pd.DataFrame({'first_name': first_name, 'last_name': last_name, 'city_id': city_id})\n",
        "customers.to_csv('customers.csv', sep=',', encoding='utf-8-sig', index=False)"
      ],
      "metadata": {
        "id": "rzweV-I7A6_g"
      },
      "execution_count": 21,
      "outputs": []
    },
    {
      "cell_type": "code",
      "source": [
        "# create table games_ordered\n",
        "\n",
        "game_id = np.random.randint(1, 999, 550)\n",
        "order_id = np.random.randint(1, 101, 550)\n",
        "quantity = np.random.randint(1, 3, 550)\n",
        "\n",
        "games_ordered = pd.DataFrame({'game_id': game_id, 'order_id': order_id, 'quantity': quantity})\n",
        "games_ordered.to_csv('games_ordered.csv', sep=',', encoding='utf-8-sig', index=False)\n"
      ],
      "metadata": {
        "id": "GDL5CM19Nlsl"
      },
      "execution_count": 22,
      "outputs": []
    },
    {
      "cell_type": "code",
      "source": [
        "# calculate sum of each order\n",
        "games['index'] = range(1, 1000)\n",
        "\n",
        "new_df = pd.merge(games_ordered, games, how='inner', left_on='game_id', right_on = 'index')\n",
        "\n",
        "new_df['total_price'] = new_df.price * new_df.quantity_x\n",
        "order_sum = new_df.groupby('order_id')['total_price'].sum().to_list()"
      ],
      "metadata": {
        "id": "xCR0gVgCPWC4"
      },
      "execution_count": 23,
      "outputs": []
    },
    {
      "cell_type": "code",
      "source": [
        "# create table 'orders'\n",
        "\n",
        "customer_id = np.random.randint(1, 26, 100)\n",
        "\n",
        "def random_date(start, end):\n",
        "\n",
        "    delta = end - start\n",
        "    int_delta = (delta.days * 24 * 60 * 60) + delta.seconds\n",
        "    random_second = randrange(int_delta)\n",
        "    return start + timedelta(seconds=random_second)\n",
        "\n",
        "order_date = []\n",
        "\n",
        "for od in range(100):\n",
        "  order_date.append(random_date(date(2022, 10, 23), date(2023, 12, 31)).strftime('%Y-%m-%d'))\n",
        "\n",
        "orders = pd.DataFrame({'customer_id': customer_id, 'order_date': order_date, 'order_sum': order_sum})\n",
        "orders.to_csv('orders.csv', sep=',', encoding='utf-8-sig', index=False)\n"
      ],
      "metadata": {
        "id": "928z8hFtJUCU"
      },
      "execution_count": 25,
      "outputs": []
    }
  ]
}